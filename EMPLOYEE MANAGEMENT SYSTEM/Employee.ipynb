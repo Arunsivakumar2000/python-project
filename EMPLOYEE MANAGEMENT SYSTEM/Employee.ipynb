{
 "cells": [
  {
   "cell_type": "code",
   "execution_count": null,
   "id": "84c026ef-bce3-4b57-8b4d-c1dd7fbcad4f",
   "metadata": {},
   "outputs": [],
   "source": [
    "                                    EMPLOYEE MANAGEMENT SYSTEM"
   ]
  },
  {
   "cell_type": "code",
   "execution_count": 1,
   "id": "7d9c9da3-db30-4a20-a843-840a7ec7d00f",
   "metadata": {},
   "outputs": [
    {
     "name": "stdout",
     "output_type": "stream",
     "text": [
      "\n",
      "=== Employee Management System ===\n",
      "1. Add Employee\n",
      "2. View Employees\n",
      "3. Update Employee\n",
      "4. Remove Employee\n",
      "5. Save to File\n",
      "6. Load from File\n",
      "7. Show Salary Statistics\n",
      "8. Exit\n"
     ]
    },
    {
     "name": "stdin",
     "output_type": "stream",
     "text": [
      "Enter your choice:  1\n",
      "Enter Employee ID:  EMP101\n",
      "Enter Name:  G.Ramesh\n",
      "Enter Age:  29\n",
      "Enter Salary:  46000\n",
      "Enter Department:  Software Developer\n"
     ]
    },
    {
     "name": "stdout",
     "output_type": "stream",
     "text": [
      "Employee G.Ramesh added successfully.\n",
      "\n",
      "=== Employee Management System ===\n",
      "1. Add Employee\n",
      "2. View Employees\n",
      "3. Update Employee\n",
      "4. Remove Employee\n",
      "5. Save to File\n",
      "6. Load from File\n",
      "7. Show Salary Statistics\n",
      "8. Exit\n"
     ]
    },
    {
     "name": "stdin",
     "output_type": "stream",
     "text": [
      "Enter your choice:  1\n",
      "Enter Employee ID:  EMP102\n",
      "Enter Name:  T.Lalith\n",
      "Enter Age:  31\n",
      "Enter Salary:  51000\n",
      "Enter Department:  Network Engineer\n"
     ]
    },
    {
     "name": "stdout",
     "output_type": "stream",
     "text": [
      "Employee T.Lalith added successfully.\n",
      "\n",
      "=== Employee Management System ===\n",
      "1. Add Employee\n",
      "2. View Employees\n",
      "3. Update Employee\n",
      "4. Remove Employee\n",
      "5. Save to File\n",
      "6. Load from File\n",
      "7. Show Salary Statistics\n",
      "8. Exit\n"
     ]
    },
    {
     "name": "stdin",
     "output_type": "stream",
     "text": [
      "Enter your choice:  1\n",
      "Enter Employee ID:  EMP103\n",
      "Enter Name:  P.Kohila\n",
      "Enter Age:  26\n",
      "Enter Salary:  24000\n",
      "Enter Department:  Python Developer\n"
     ]
    },
    {
     "name": "stdout",
     "output_type": "stream",
     "text": [
      "Employee P.Kohila added successfully.\n",
      "\n",
      "=== Employee Management System ===\n",
      "1. Add Employee\n",
      "2. View Employees\n",
      "3. Update Employee\n",
      "4. Remove Employee\n",
      "5. Save to File\n",
      "6. Load from File\n",
      "7. Show Salary Statistics\n",
      "8. Exit\n"
     ]
    },
    {
     "name": "stdin",
     "output_type": "stream",
     "text": [
      "Enter your choice:  1\n",
      "Enter Employee ID:  EMP104\n",
      "Enter Name:  D.Durga\n",
      "Enter Age:  30\n",
      "Enter Salary:  49000\n",
      "Enter Department:  Automation Tester\n"
     ]
    },
    {
     "name": "stdout",
     "output_type": "stream",
     "text": [
      "Employee D.Durga added successfully.\n",
      "\n",
      "=== Employee Management System ===\n",
      "1. Add Employee\n",
      "2. View Employees\n",
      "3. Update Employee\n",
      "4. Remove Employee\n",
      "5. Save to File\n",
      "6. Load from File\n",
      "7. Show Salary Statistics\n",
      "8. Exit\n"
     ]
    },
    {
     "name": "stdin",
     "output_type": "stream",
     "text": [
      "Enter your choice:  2\n"
     ]
    },
    {
     "name": "stdout",
     "output_type": "stream",
     "text": [
      "\n",
      "All Employees:\n",
      "     ID     Name  Age  Salary         Department\n",
      "EMP101 G.Ramesh   29 46000.0 Software Developer\n",
      "EMP102 T.Lalith   31 51000.0   Network Engineer\n",
      "EMP103 P.Kohila   26 24000.0   Python Developer\n",
      "EMP104  D.Durga   30 49000.0  Automation Tester\n",
      "\n",
      "=== Employee Management System ===\n",
      "1. Add Employee\n",
      "2. View Employees\n",
      "3. Update Employee\n",
      "4. Remove Employee\n",
      "5. Save to File\n",
      "6. Load from File\n",
      "7. Show Salary Statistics\n",
      "8. Exit\n"
     ]
    },
    {
     "name": "stdin",
     "output_type": "stream",
     "text": [
      "Enter your choice:  3\n",
      "Enter Employee ID to Update:  EMP103\n",
      "Enter New Name (or press Enter to skip):  \n",
      "Enter New Age (or press Enter to skip):  \n",
      "Enter New Salary (or press Enter to skip):  26500\n",
      "Enter New Department (or press Enter to skip):  \n"
     ]
    },
    {
     "name": "stdout",
     "output_type": "stream",
     "text": [
      "Employee EMP103 updated successfully.\n",
      "\n",
      "=== Employee Management System ===\n",
      "1. Add Employee\n",
      "2. View Employees\n",
      "3. Update Employee\n",
      "4. Remove Employee\n",
      "5. Save to File\n",
      "6. Load from File\n",
      "7. Show Salary Statistics\n",
      "8. Exit\n"
     ]
    },
    {
     "name": "stdin",
     "output_type": "stream",
     "text": [
      "Enter your choice:  2\n"
     ]
    },
    {
     "name": "stdout",
     "output_type": "stream",
     "text": [
      "\n",
      "All Employees:\n",
      "     ID     Name  Age  Salary         Department\n",
      "EMP101 G.Ramesh   29 46000.0 Software Developer\n",
      "EMP102 T.Lalith   31 51000.0   Network Engineer\n",
      "EMP103 P.Kohila   26 26500.0   Python Developer\n",
      "EMP104  D.Durga   30 49000.0  Automation Tester\n",
      "\n",
      "=== Employee Management System ===\n",
      "1. Add Employee\n",
      "2. View Employees\n",
      "3. Update Employee\n",
      "4. Remove Employee\n",
      "5. Save to File\n",
      "6. Load from File\n",
      "7. Show Salary Statistics\n",
      "8. Exit\n"
     ]
    },
    {
     "name": "stdin",
     "output_type": "stream",
     "text": [
      "Enter your choice:  4\n",
      "Enter Employee ID to Remove:  EMP104\n"
     ]
    },
    {
     "name": "stdout",
     "output_type": "stream",
     "text": [
      "Employee with ID EMP104 removed successfully.\n",
      "\n",
      "=== Employee Management System ===\n",
      "1. Add Employee\n",
      "2. View Employees\n",
      "3. Update Employee\n",
      "4. Remove Employee\n",
      "5. Save to File\n",
      "6. Load from File\n",
      "7. Show Salary Statistics\n",
      "8. Exit\n"
     ]
    },
    {
     "name": "stdin",
     "output_type": "stream",
     "text": [
      "Enter your choice:  2\n"
     ]
    },
    {
     "name": "stdout",
     "output_type": "stream",
     "text": [
      "\n",
      "All Employees:\n",
      "     ID     Name  Age  Salary         Department\n",
      "EMP101 G.Ramesh   29 46000.0 Software Developer\n",
      "EMP102 T.Lalith   31 51000.0   Network Engineer\n",
      "EMP103 P.Kohila   26 26500.0   Python Developer\n",
      "\n",
      "=== Employee Management System ===\n",
      "1. Add Employee\n",
      "2. View Employees\n",
      "3. Update Employee\n",
      "4. Remove Employee\n",
      "5. Save to File\n",
      "6. Load from File\n",
      "7. Show Salary Statistics\n",
      "8. Exit\n"
     ]
    },
    {
     "name": "stdin",
     "output_type": "stream",
     "text": [
      "Enter your choice:  5\n",
      "Enter filename to save data:  Emp.csv\n"
     ]
    },
    {
     "name": "stdout",
     "output_type": "stream",
     "text": [
      "Employee data saved to 'Emp.csv'.\n",
      "\n",
      "=== Employee Management System ===\n",
      "1. Add Employee\n",
      "2. View Employees\n",
      "3. Update Employee\n",
      "4. Remove Employee\n",
      "5. Save to File\n",
      "6. Load from File\n",
      "7. Show Salary Statistics\n",
      "8. Exit\n"
     ]
    },
    {
     "name": "stdin",
     "output_type": "stream",
     "text": [
      "Enter your choice:  2\n"
     ]
    },
    {
     "name": "stdout",
     "output_type": "stream",
     "text": [
      "\n",
      "All Employees:\n",
      "     ID     Name  Age  Salary         Department\n",
      "EMP101 G.Ramesh   29 46000.0 Software Developer\n",
      "EMP102 T.Lalith   31 51000.0   Network Engineer\n",
      "EMP103 P.Kohila   26 26500.0   Python Developer\n",
      "\n",
      "=== Employee Management System ===\n",
      "1. Add Employee\n",
      "2. View Employees\n",
      "3. Update Employee\n",
      "4. Remove Employee\n",
      "5. Save to File\n",
      "6. Load from File\n",
      "7. Show Salary Statistics\n",
      "8. Exit\n"
     ]
    },
    {
     "name": "stdin",
     "output_type": "stream",
     "text": [
      "Enter your choice:  6\n",
      "Enter filename to load data from:  Detail.csv\n"
     ]
    },
    {
     "name": "stdout",
     "output_type": "stream",
     "text": [
      "Employee data loaded from 'Detail.csv'.\n",
      "\n",
      "=== Employee Management System ===\n",
      "1. Add Employee\n",
      "2. View Employees\n",
      "3. Update Employee\n",
      "4. Remove Employee\n",
      "5. Save to File\n",
      "6. Load from File\n",
      "7. Show Salary Statistics\n",
      "8. Exit\n"
     ]
    },
    {
     "name": "stdin",
     "output_type": "stream",
     "text": [
      "Enter your choice:  2\n"
     ]
    },
    {
     "name": "stdout",
     "output_type": "stream",
     "text": [
      "\n",
      "All Employees:\n",
      "  Emp Id  Emp Name  Age  Salary         Department\n",
      "   1001 H.Sathish   25   28000 Software Developer\n",
      "   1002   V.Kamal   31   35000    Software Tester\n",
      "   1003    R.Ravi   45   76000   Network Engineer\n",
      "\n",
      "=== Employee Management System ===\n",
      "1. Add Employee\n",
      "2. View Employees\n",
      "3. Update Employee\n",
      "4. Remove Employee\n",
      "5. Save to File\n",
      "6. Load from File\n",
      "7. Show Salary Statistics\n",
      "8. Exit\n"
     ]
    },
    {
     "name": "stdin",
     "output_type": "stream",
     "text": [
      "Enter your choice:  7\n"
     ]
    },
    {
     "name": "stdout",
     "output_type": "stream",
     "text": [
      "\n",
      "Salary Statistics:\n",
      "Mean Salary   : 46333.33\n",
      "Median Salary : 35000.00\n",
      "Max Salary    : 76000.00\n",
      "Min Salary    : 28000.00\n",
      "\n",
      "=== Employee Management System ===\n",
      "1. Add Employee\n",
      "2. View Employees\n",
      "3. Update Employee\n",
      "4. Remove Employee\n",
      "5. Save to File\n",
      "6. Load from File\n",
      "7. Show Salary Statistics\n",
      "8. Exit\n"
     ]
    },
    {
     "name": "stdin",
     "output_type": "stream",
     "text": [
      "Enter your choice:  8\n"
     ]
    },
    {
     "name": "stdout",
     "output_type": "stream",
     "text": [
      "Exiting Employee Management System. Goodbye!\n"
     ]
    }
   ],
   "source": [
    "# Importing necessary libraries\n",
    "import pandas as pd        # For data handling\n",
    "import numpy as np         # For numerical/statistical operations\n",
    "\n",
    "# Employee Management System using OOP\n",
    "class EmployeeManagementSystem:\n",
    "    def __init__(self):\n",
    "        # Initialize an empty DataFrame to store employee data with defined columns\n",
    "        self.employees = pd.DataFrame(columns=[\"ID\", \"Name\", \"Age\", \"Salary\", \"Department\"])\n",
    "\n",
    "    def add_employee(self, emp_id, name, age, salary, department):\n",
    "        # Add a new employee to the system\n",
    "        # Check if employee ID already exists\n",
    "        if emp_id in self.employees['ID'].values:\n",
    "            print(f\"Employee ID {emp_id} already exists.\")\n",
    "            return\n",
    "\n",
    "        # Create a new employee dictionary with provided data\n",
    "        new_employee = {\n",
    "            \"ID\": emp_id,\n",
    "            \"Name\": name,\n",
    "            \"Age\": int(age),\n",
    "            \"Salary\": float(salary),\n",
    "            \"Department\": department\n",
    "        }\n",
    "\n",
    "        # Append the new employee to the DataFrame\n",
    "        if not self.employees.empty:\n",
    "            self.employees = pd.concat([self.employees, pd.DataFrame([new_employee])], ignore_index=True)\n",
    "        else:\n",
    "            self.employees = pd.DataFrame([new_employee])\n",
    "        print(f\"Employee {name} added successfully.\")\n",
    "\n",
    "    def view_employees(self):\n",
    "        # Display all employees\n",
    "        if self.employees.empty:\n",
    "            print(\"No Employees added yet.\")\n",
    "        else:\n",
    "            print(\"\\nAll Employees:\\n\", self.employees.to_string(index=False))\n",
    "\n",
    "    def update_employee(self, emp_id, name=None, age=None, salary=None, department=None):\n",
    "        # Update employee details based on ID\n",
    "        # Locate index of employee by ID\n",
    "        idx = self.employees.index[self.employees[\"ID\"] == emp_id].tolist()\n",
    "\n",
    "        if not idx:\n",
    "            print(f\"Employee with ID {emp_id} not found.\")\n",
    "            return\n",
    "\n",
    "        idx = idx[0]  # Extract index from list\n",
    "\n",
    "        # Update only provided fields\n",
    "        if name:\n",
    "            self.employees.at[idx, \"Name\"] = name\n",
    "        if age:\n",
    "            self.employees.at[idx, \"Age\"] = int(age)\n",
    "        if salary:\n",
    "            self.employees.at[idx, \"Salary\"] = float(salary)\n",
    "        if department:\n",
    "            self.employees.at[idx, \"Department\"] = department\n",
    "\n",
    "        print(f\"Employee {emp_id} updated successfully.\")\n",
    "\n",
    "    def remove_employee(self, emp_id):\n",
    "        # Remove employee from system using ID\n",
    "        initial_count = len(self.employees)\n",
    "        self.employees = self.employees[self.employees[\"ID\"] != emp_id]\n",
    "\n",
    "        # Check if removal was successful\n",
    "        if len(self.employees) < initial_count:\n",
    "            print(f\"Employee with ID {emp_id} removed successfully.\")\n",
    "        else:\n",
    "            print(f\"Employee with ID {emp_id} not found.\")\n",
    "\n",
    "    def save_to_file(self, filename):\n",
    "        # Save employee data to a CSV file\n",
    "        try:\n",
    "            self.employees.to_csv(filename, index=False)\n",
    "            print(f\"Employee data saved to '{filename}'.\")\n",
    "        except Exception as e:\n",
    "            print(f\"Error saving file: {e}\")\n",
    "\n",
    "    def load_from_file(self, filename):\n",
    "        # Load employee data from a CSV file\n",
    "        try:\n",
    "            self.employees = pd.read_csv(filename)\n",
    "            print(f\"Employee data loaded from '{filename}'.\")\n",
    "        except FileNotFoundError:\n",
    "            print(f\"File '{filename}' not found.\")\n",
    "        except Exception as e:\n",
    "            print(f\"Error loading file: {e}\")\n",
    "\n",
    "    def show_salary_stats(self):\n",
    "        # Display salary statistics using NumPy\n",
    "        if self.employees.empty:\n",
    "            print(\"No employee data to show statistics.\")\n",
    "            return\n",
    "\n",
    "        salaries = self.employees[\"Salary\"].to_numpy()\n",
    "\n",
    "        print(\"\\nSalary Statistics:\")\n",
    "        print(f\"Mean Salary   : {np.mean(salaries):.2f}\")\n",
    "        print(f\"Median Salary : {np.median(salaries):.2f}\")\n",
    "        print(f\"Max Salary    : {np.max(salaries):.2f}\")\n",
    "        print(f\"Min Salary    : {np.min(salaries):.2f}\")\n",
    "\n",
    "# Function to display a menu and handle user interaction\n",
    "def menu():\n",
    "    # Create an instance of EmployeeManagementSystem\n",
    "    system = EmployeeManagementSystem()\n",
    "\n",
    "    while True:\n",
    "        # Display menu options\n",
    "        print(\"\\n=== Employee Management System ===\")\n",
    "        print(\"1. Add Employee\")\n",
    "        print(\"2. View Employees\")\n",
    "        print(\"3. Update Employee\")\n",
    "        print(\"4. Remove Employee\")\n",
    "        print(\"5. Save to File\")\n",
    "        print(\"6. Load from File\")\n",
    "        print(\"7. Show Salary Statistics\")\n",
    "        print(\"8. Exit\")\n",
    "\n",
    "        # Get user choice\n",
    "        choice = input(\"Enter your choice: \")\n",
    "\n",
    "        if choice == \"1\":\n",
    "            # Gather employee details and add employee\n",
    "            emp_id = input(\"Enter Employee ID: \")\n",
    "            name = input(\"Enter Name: \")\n",
    "            age = input(\"Enter Age: \")\n",
    "            salary = input(\"Enter Salary: \")\n",
    "            department = input(\"Enter Department: \")\n",
    "            system.add_employee(emp_id, name, age, salary, department)\n",
    "\n",
    "        elif choice == \"2\":\n",
    "            # View all employees\n",
    "            system.view_employees()\n",
    "\n",
    "        elif choice == \"3\":\n",
    "            # Update an existing employee\n",
    "            emp_id = input(\"Enter Employee ID to Update: \")\n",
    "            name = input(\"Enter New Name (or press Enter to skip): \") or None\n",
    "            age = input(\"Enter New Age (or press Enter to skip): \") or None\n",
    "            salary = input(\"Enter New Salary (or press Enter to skip): \") or None\n",
    "            department = input(\"Enter New Department (or press Enter to skip): \") or None\n",
    "            system.update_employee(emp_id, name, age, salary, department)\n",
    "\n",
    "        elif choice == \"4\":\n",
    "            # Remove employee by ID\n",
    "            emp_id = input(\"Enter Employee ID to Remove: \")\n",
    "            system.remove_employee(emp_id)\n",
    "\n",
    "        elif choice == \"5\":\n",
    "            # Save current employee data to a file\n",
    "            filename = input(\"Enter filename to save data: \")\n",
    "            system.save_to_file(filename)\n",
    "\n",
    "        elif choice == \"6\":\n",
    "            # Load employee data from a file\n",
    "            filename = input(\"Enter filename to load data from: \")\n",
    "            system.load_from_file(filename)\n",
    "\n",
    "        elif choice == \"7\":\n",
    "            # Show salary statistics\n",
    "            system.show_salary_stats()\n",
    "\n",
    "        elif choice == \"8\":\n",
    "            # Exit the program\n",
    "            print(\"Exiting Employee Management System. Goodbye!\")\n",
    "            break\n",
    "\n",
    "        else:\n",
    "            # Handle invalid menu choices\n",
    "            print(\"Invalid choice. Please select from the menu.\")\n",
    "\n",
    "# Run the system by calling the menu\n",
    "menu()\n"
   ]
  },
  {
   "cell_type": "code",
   "execution_count": null,
   "id": "8ba48b7a-5306-47cc-a8de-c22771fc460a",
   "metadata": {},
   "outputs": [],
   "source": []
  }
 ],
 "metadata": {
  "kernelspec": {
   "display_name": "Python [conda env:base] *",
   "language": "python",
   "name": "conda-base-py"
  },
  "language_info": {
   "codemirror_mode": {
    "name": "ipython",
    "version": 3
   },
   "file_extension": ".py",
   "mimetype": "text/x-python",
   "name": "python",
   "nbconvert_exporter": "python",
   "pygments_lexer": "ipython3",
   "version": "3.12.7"
  }
 },
 "nbformat": 4,
 "nbformat_minor": 5
}
