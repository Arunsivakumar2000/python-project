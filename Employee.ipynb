{
 "cells": [
  {
   "cell_type": "code",
   "execution_count": null,
   "id": "788a318c-da90-4a65-8cf1-684f11d2fd76",
   "metadata": {},
   "outputs": [],
   "source": [
    "                                                      EMPLOYEE MANAGEMENT SYSTEM"
   ]
  },
  {
   "cell_type": "code",
   "execution_count": 1,
   "id": "2ee77438-75fe-4aae-b6a2-7b37981da778",
   "metadata": {},
   "outputs": [
    {
     "name": "stdout",
     "output_type": "stream",
     "text": [
      "Requirement already satisfied: numpy in c:\\users\\user\\anaconda3\\lib\\site-packages (1.26.4)\n",
      "Note: you may need to restart the kernel to use updated packages.\n"
     ]
    }
   ],
   "source": [
    "pip install numpy"
   ]
  },
  {
   "cell_type": "code",
   "execution_count": 3,
   "id": "0a80b31b-af81-4e10-b68e-95f7fce91690",
   "metadata": {},
   "outputs": [
    {
     "name": "stdout",
     "output_type": "stream",
     "text": [
      "Requirement already satisfied: pandas in c:\\users\\user\\anaconda3\\lib\\site-packages (2.2.2)\n",
      "Requirement already satisfied: numpy>=1.26.0 in c:\\users\\user\\anaconda3\\lib\\site-packages (from pandas) (1.26.4)\n",
      "Requirement already satisfied: python-dateutil>=2.8.2 in c:\\users\\user\\anaconda3\\lib\\site-packages (from pandas) (2.9.0.post0)\n",
      "Requirement already satisfied: pytz>=2020.1 in c:\\users\\user\\anaconda3\\lib\\site-packages (from pandas) (2024.1)\n",
      "Requirement already satisfied: tzdata>=2022.7 in c:\\users\\user\\anaconda3\\lib\\site-packages (from pandas) (2023.3)\n",
      "Requirement already satisfied: six>=1.5 in c:\\users\\user\\anaconda3\\lib\\site-packages (from python-dateutil>=2.8.2->pandas) (1.16.0)\n",
      "Note: you may need to restart the kernel to use updated packages.\n"
     ]
    }
   ],
   "source": [
    "pip install pandas"
   ]
  },
  {
   "cell_type": "code",
   "execution_count": 1,
   "id": "4ff61d77-2e05-43a9-b034-1d5d3994b6bc",
   "metadata": {},
   "outputs": [
    {
     "name": "stdout",
     "output_type": "stream",
     "text": [
      "\n",
      "=== Employee Management System ===\n",
      "1. Add Employee\n",
      "2. View Employees\n",
      "3. Update Employee\n",
      "4. Remove Employee\n",
      "5. Save to File\n",
      "6. Load from File\n",
      "7. Show Salary Statistics\n",
      "8. Exit\n"
     ]
    },
    {
     "name": "stdin",
     "output_type": "stream",
     "text": [
      "Enter your choice:  1\n",
      "Enter Employee ID:  EMP101\n",
      "Enter Name:  G.Rajendran\n",
      "Enter Age:  27\n",
      "Enter Salary:  46000\n",
      "Enter Department:  Software Tester\n"
     ]
    },
    {
     "name": "stdout",
     "output_type": "stream",
     "text": [
      "Employee G.Rajendran added successfully.\n",
      "\n",
      "=== Employee Management System ===\n",
      "1. Add Employee\n",
      "2. View Employees\n",
      "3. Update Employee\n",
      "4. Remove Employee\n",
      "5. Save to File\n",
      "6. Load from File\n",
      "7. Show Salary Statistics\n",
      "8. Exit\n"
     ]
    },
    {
     "name": "stdin",
     "output_type": "stream",
     "text": [
      "Enter your choice:  1\n",
      "Enter Employee ID:  EMP102\n",
      "Enter Name:  T.Lalith\n",
      "Enter Age:  31\n",
      "Enter Salary:  56000\n",
      "Enter Department:  Python Developer\n"
     ]
    },
    {
     "name": "stdout",
     "output_type": "stream",
     "text": [
      "Employee T.Lalith added successfully.\n",
      "\n",
      "=== Employee Management System ===\n",
      "1. Add Employee\n",
      "2. View Employees\n",
      "3. Update Employee\n",
      "4. Remove Employee\n",
      "5. Save to File\n",
      "6. Load from File\n",
      "7. Show Salary Statistics\n",
      "8. Exit\n"
     ]
    },
    {
     "name": "stdin",
     "output_type": "stream",
     "text": [
      "Enter your choice:  1\n",
      "Enter Employee ID:  EMP103\n",
      "Enter Name:  H.Kohila\n",
      "Enter Age:  37\n",
      "Enter Salary:  75000\n",
      "Enter Department:  Network Engineer\n"
     ]
    },
    {
     "name": "stdout",
     "output_type": "stream",
     "text": [
      "Employee H.Kohila added successfully.\n",
      "\n",
      "=== Employee Management System ===\n",
      "1. Add Employee\n",
      "2. View Employees\n",
      "3. Update Employee\n",
      "4. Remove Employee\n",
      "5. Save to File\n",
      "6. Load from File\n",
      "7. Show Salary Statistics\n",
      "8. Exit\n"
     ]
    },
    {
     "name": "stdin",
     "output_type": "stream",
     "text": [
      "Enter your choice:  1\n",
      "Enter Employee ID:  EMP104\n",
      "Enter Name:  E.Harish\n",
      "Enter Age:  41\n",
      "Enter Salary:  86000\n",
      "Enter Department:  Automation Tester\n"
     ]
    },
    {
     "name": "stdout",
     "output_type": "stream",
     "text": [
      "Employee E.Harish added successfully.\n",
      "\n",
      "=== Employee Management System ===\n",
      "1. Add Employee\n",
      "2. View Employees\n",
      "3. Update Employee\n",
      "4. Remove Employee\n",
      "5. Save to File\n",
      "6. Load from File\n",
      "7. Show Salary Statistics\n",
      "8. Exit\n"
     ]
    },
    {
     "name": "stdin",
     "output_type": "stream",
     "text": [
      "Enter your choice:  2\n"
     ]
    },
    {
     "name": "stdout",
     "output_type": "stream",
     "text": [
      "\n",
      "All Employees:\n",
      "     ID        Name  Age  Salary        Department\n",
      "EMP101 G.Rajendran   27 46000.0   Software Tester\n",
      "EMP102    T.Lalith   31 56000.0  Python Developer\n",
      "EMP103    H.Kohila   37 75000.0  Network Engineer\n",
      "EMP104    E.Harish   41 86000.0 Automation Tester\n",
      "\n",
      "=== Employee Management System ===\n",
      "1. Add Employee\n",
      "2. View Employees\n",
      "3. Update Employee\n",
      "4. Remove Employee\n",
      "5. Save to File\n",
      "6. Load from File\n",
      "7. Show Salary Statistics\n",
      "8. Exit\n"
     ]
    },
    {
     "name": "stdin",
     "output_type": "stream",
     "text": [
      "Enter your choice:  3\n",
      "Enter Employee ID to Update:  EMP102\n",
      "Enter New Name (or press Enter to skip):  \n",
      "Enter New Age (or press Enter to skip):  \n",
      "Enter New Salary (or press Enter to skip):  61000\n",
      "Enter New Department (or press Enter to skip):  \n"
     ]
    },
    {
     "name": "stdout",
     "output_type": "stream",
     "text": [
      "Employee EMP102 updated successfully.\n",
      "\n",
      "=== Employee Management System ===\n",
      "1. Add Employee\n",
      "2. View Employees\n",
      "3. Update Employee\n",
      "4. Remove Employee\n",
      "5. Save to File\n",
      "6. Load from File\n",
      "7. Show Salary Statistics\n",
      "8. Exit\n"
     ]
    },
    {
     "name": "stdin",
     "output_type": "stream",
     "text": [
      "Enter your choice:  2\n"
     ]
    },
    {
     "name": "stdout",
     "output_type": "stream",
     "text": [
      "\n",
      "All Employees:\n",
      "     ID        Name  Age  Salary        Department\n",
      "EMP101 G.Rajendran   27 46000.0   Software Tester\n",
      "EMP102    T.Lalith   31 61000.0  Python Developer\n",
      "EMP103    H.Kohila   37 75000.0  Network Engineer\n",
      "EMP104    E.Harish   41 86000.0 Automation Tester\n",
      "\n",
      "=== Employee Management System ===\n",
      "1. Add Employee\n",
      "2. View Employees\n",
      "3. Update Employee\n",
      "4. Remove Employee\n",
      "5. Save to File\n",
      "6. Load from File\n",
      "7. Show Salary Statistics\n",
      "8. Exit\n"
     ]
    },
    {
     "name": "stdin",
     "output_type": "stream",
     "text": [
      "Enter your choice:  4\n",
      "Enter Employee ID to Remove:  EMP104\n"
     ]
    },
    {
     "name": "stdout",
     "output_type": "stream",
     "text": [
      "Employee with ID EMP104 removed successfully.\n",
      "\n",
      "=== Employee Management System ===\n",
      "1. Add Employee\n",
      "2. View Employees\n",
      "3. Update Employee\n",
      "4. Remove Employee\n",
      "5. Save to File\n",
      "6. Load from File\n",
      "7. Show Salary Statistics\n",
      "8. Exit\n"
     ]
    },
    {
     "name": "stdin",
     "output_type": "stream",
     "text": [
      "Enter your choice:  2\n"
     ]
    },
    {
     "name": "stdout",
     "output_type": "stream",
     "text": [
      "\n",
      "All Employees:\n",
      "     ID        Name  Age  Salary       Department\n",
      "EMP101 G.Rajendran   27 46000.0  Software Tester\n",
      "EMP102    T.Lalith   31 61000.0 Python Developer\n",
      "EMP103    H.Kohila   37 75000.0 Network Engineer\n",
      "\n",
      "=== Employee Management System ===\n",
      "1. Add Employee\n",
      "2. View Employees\n",
      "3. Update Employee\n",
      "4. Remove Employee\n",
      "5. Save to File\n",
      "6. Load from File\n",
      "7. Show Salary Statistics\n",
      "8. Exit\n"
     ]
    },
    {
     "name": "stdin",
     "output_type": "stream",
     "text": [
      "Enter your choice:  5\n",
      "Enter filename to save data :  Emp.csv\n"
     ]
    },
    {
     "name": "stdout",
     "output_type": "stream",
     "text": [
      "Employee data saved to 'Emp.csv'.\n",
      "\n",
      "=== Employee Management System ===\n",
      "1. Add Employee\n",
      "2. View Employees\n",
      "3. Update Employee\n",
      "4. Remove Employee\n",
      "5. Save to File\n",
      "6. Load from File\n",
      "7. Show Salary Statistics\n",
      "8. Exit\n"
     ]
    },
    {
     "name": "stdin",
     "output_type": "stream",
     "text": [
      "Enter your choice:  2\n"
     ]
    },
    {
     "name": "stdout",
     "output_type": "stream",
     "text": [
      "\n",
      "All Employees:\n",
      "     ID        Name  Age  Salary       Department\n",
      "EMP101 G.Rajendran   27 46000.0  Software Tester\n",
      "EMP102    T.Lalith   31 61000.0 Python Developer\n",
      "EMP103    H.Kohila   37 75000.0 Network Engineer\n",
      "\n",
      "=== Employee Management System ===\n",
      "1. Add Employee\n",
      "2. View Employees\n",
      "3. Update Employee\n",
      "4. Remove Employee\n",
      "5. Save to File\n",
      "6. Load from File\n",
      "7. Show Salary Statistics\n",
      "8. Exit\n"
     ]
    },
    {
     "name": "stdin",
     "output_type": "stream",
     "text": [
      "Enter your choice:  6\n",
      "Enter filename to load data from :  Detail.csv\n"
     ]
    },
    {
     "name": "stdout",
     "output_type": "stream",
     "text": [
      "Employee data loaded from 'Detail.csv'.\n",
      "\n",
      "=== Employee Management System ===\n",
      "1. Add Employee\n",
      "2. View Employees\n",
      "3. Update Employee\n",
      "4. Remove Employee\n",
      "5. Save to File\n",
      "6. Load from File\n",
      "7. Show Salary Statistics\n",
      "8. Exit\n"
     ]
    },
    {
     "name": "stdin",
     "output_type": "stream",
     "text": [
      "Enter your choice:  2\n"
     ]
    },
    {
     "name": "stdout",
     "output_type": "stream",
     "text": [
      "\n",
      "All Employees:\n",
      "  Emp Id  Emp Name  Age  Salary         Department\n",
      "   1001 H.Sathish   25   28000 Software Developer\n",
      "   1002   V.Kamal   31   35000    Software Tester\n",
      "   1003    R.Ravi   45   76000   Network Engineer\n",
      "\n",
      "=== Employee Management System ===\n",
      "1. Add Employee\n",
      "2. View Employees\n",
      "3. Update Employee\n",
      "4. Remove Employee\n",
      "5. Save to File\n",
      "6. Load from File\n",
      "7. Show Salary Statistics\n",
      "8. Exit\n"
     ]
    },
    {
     "name": "stdin",
     "output_type": "stream",
     "text": [
      "Enter your choice:  7\n"
     ]
    },
    {
     "name": "stdout",
     "output_type": "stream",
     "text": [
      "\n",
      "Salary Statistics:\n",
      "Mean Salary   : 46333.33\n",
      "Median Salary : 35000.00\n",
      "Max Salary    : 76000.00\n",
      "Min Salary    : 28000.00\n",
      "\n",
      "=== Employee Management System ===\n",
      "1. Add Employee\n",
      "2. View Employees\n",
      "3. Update Employee\n",
      "4. Remove Employee\n",
      "5. Save to File\n",
      "6. Load from File\n",
      "7. Show Salary Statistics\n",
      "8. Exit\n"
     ]
    },
    {
     "name": "stdin",
     "output_type": "stream",
     "text": [
      "Enter your choice:  8\n"
     ]
    },
    {
     "name": "stdout",
     "output_type": "stream",
     "text": [
      "Exiting Employee Management System. Goodbye!\n"
     ]
    }
   ],
   "source": [
    "# Importing necessary libraries\n",
    "import pandas as pd\n",
    "import numpy as np\n",
    "\n",
    "# Employee Management System using OOPS\n",
    "class EmployeeManagementSystem:\n",
    "    def __init__(self):\n",
    "        # Initialize an empty DataFrame to store employee data\n",
    "        self.employees = pd.DataFrame(columns=[\"ID\", \"Name\", \"Age\", \"Salary\", \"Department\"])\n",
    "    \n",
    "    def add_employee(self, emp_id, name, age, salary, department):\n",
    "        # Check if employee already exists\n",
    "        if emp_id in self.employees['ID'].values:\n",
    "            print(f\"Employee ID {emp_id} already exists.\")\n",
    "            return\n",
    "\n",
    "        # Create a new employee as a dictionary\n",
    "        new_employee = {\n",
    "            \"ID\": emp_id,\n",
    "            \"Name\": name,\n",
    "            \"Age\": int(age),\n",
    "            \"Salary\": float(salary),\n",
    "            \"Department\": department\n",
    "        }\n",
    "\n",
    "        # Append to the DataFrame\n",
    "        if not self.employees.empty:\n",
    "            self.employees = pd.concat([self.employees,pd.DataFrame([new_employee])], ignore_index=True)\n",
    "        else:\n",
    "            self.employees = pd.DataFrame([new_employee])\n",
    "        print(f\"Employee {name} added successfully.\")\n",
    "\n",
    "    def view_employees(self):\n",
    "        # View all employee records\n",
    "        if self.employees.empty:\n",
    "            print(\"No Employees added yet.\")\n",
    "        else:\n",
    "            print(\"\\nAll Employees:\\n\", self.employees.to_string(index=False))\n",
    "\n",
    "    def update_employee(self, emp_id, name=None, age=None, salary=None, department=None):\n",
    "        # Find the employee by ID\n",
    "        idx = self.employees.index[self.employees[\"ID\"] == emp_id].tolist()\n",
    "\n",
    "        if not idx:\n",
    "            print(f\"Employee with ID {emp_id} not found.\")\n",
    "            return\n",
    "\n",
    "        idx = idx[0]  # Get the index from list\n",
    "\n",
    "        # Update values if provided\n",
    "        if name:\n",
    "            self.employees.at[idx, \"Name\"] = name\n",
    "        if age:\n",
    "            self.employees.at[idx, \"Age\"] = int(age)\n",
    "        if salary:\n",
    "            self.employees.at[idx, \"Salary\"] = float(salary)\n",
    "        if department:\n",
    "            self.employees.at[idx, \"Department\"] = department\n",
    "\n",
    "        print(f\"Employee {emp_id} updated successfully.\")\n",
    "\n",
    "    def remove_employee(self, emp_id):\n",
    "        # Drop employee by ID\n",
    "        initial_count = len(self.employees)\n",
    "        self.employees = self.employees[self.employees[\"ID\"] != emp_id]\n",
    "        \n",
    "        if len(self.employees) < initial_count:\n",
    "            print(f\"Employee with ID {emp_id} removed successfully.\")\n",
    "        else:\n",
    "            print(f\"Employee with ID {emp_id} not found.\")\n",
    "\n",
    "    def save_to_file(self, filename):\n",
    "        # Save employee DataFrame to CSV\n",
    "        try:\n",
    "            self.employees.to_csv(filename, index=False)\n",
    "            print(f\"Employee data saved to '{filename}'.\")\n",
    "        except Exception as e:\n",
    "            print(f\"Error saving file: {e}\")\n",
    "\n",
    "    def load_from_file(self, filename):\n",
    "        # Load employee data from CSV\n",
    "        try:\n",
    "            self.employees = pd.read_csv(filename)\n",
    "            print(f\"Employee data loaded from '{filename}'.\")\n",
    "        except FileNotFoundError:\n",
    "            print(f\"File '{filename}' not found.\")\n",
    "        except Exception as e:\n",
    "            print(f\"Error loading file: {e}\")\n",
    "\n",
    "    def show_salary_stats(self):\n",
    "        # Use NumPy and Pandas for basic salary statistics\n",
    "        if self.employees.empty:\n",
    "            print(\"No employee data to show statistics.\")\n",
    "            return\n",
    "\n",
    "        salaries = self.employees[\"Salary\"].to_numpy()\n",
    "\n",
    "        print(\"\\nSalary Statistics:\")\n",
    "        print(f\"Mean Salary   : {np.mean(salaries):.2f}\")\n",
    "        print(f\"Median Salary : {np.median(salaries):.2f}\")\n",
    "        print(f\"Max Salary    : {np.max(salaries):.2f}\")\n",
    "        print(f\"Min Salary    : {np.min(salaries):.2f}\")\n",
    "\n",
    "# Function to display menu and interact with system\n",
    "def menu():\n",
    "    system = EmployeeManagementSystem()\n",
    "\n",
    "    while True:\n",
    "        print(\"\\n=== Employee Management System ===\")\n",
    "        print(\"1. Add Employee\")\n",
    "        print(\"2. View Employees\")\n",
    "        print(\"3. Update Employee\")\n",
    "        print(\"4. Remove Employee\")\n",
    "        print(\"5. Save to File\")\n",
    "        print(\"6. Load from File\")\n",
    "        print(\"7. Show Salary Statistics\")\n",
    "        print(\"8. Exit\")\n",
    "\n",
    "        choice = input(\"Enter your choice: \")\n",
    "\n",
    "        if choice == \"1\":\n",
    "            emp_id = input(\"Enter Employee ID: \")\n",
    "            name = input(\"Enter Name: \")\n",
    "            age = input(\"Enter Age: \")\n",
    "            salary = input(\"Enter Salary: \")\n",
    "            department = input(\"Enter Department: \")\n",
    "            system.add_employee(emp_id, name, age, salary, department)\n",
    "\n",
    "        elif choice == \"2\":\n",
    "            system.view_employees()\n",
    "\n",
    "        elif choice == \"3\":\n",
    "            emp_id = input(\"Enter Employee ID to Update: \")\n",
    "            name = input(\"Enter New Name (or press Enter to skip): \") or None\n",
    "            age = input(\"Enter New Age (or press Enter to skip): \") or None\n",
    "            salary = input(\"Enter New Salary (or press Enter to skip): \") or None\n",
    "            department = input(\"Enter New Department (or press Enter to skip): \") or None\n",
    "            system.update_employee(emp_id, name, age, salary, department)\n",
    "\n",
    "        elif choice == \"4\":\n",
    "            emp_id = input(\"Enter Employee ID to Remove: \")\n",
    "            system.remove_employee(emp_id)\n",
    "\n",
    "        elif choice == \"5\":\n",
    "            filename = input(\"Enter filename to save data : \")\n",
    "            system.save_to_file(filename)\n",
    "\n",
    "        elif choice == \"6\":\n",
    "            filename = input(\"Enter filename to load data from : \")\n",
    "            system.load_from_file(filename)\n",
    "\n",
    "        elif choice == \"7\":\n",
    "            system.show_salary_stats()\n",
    "\n",
    "        elif choice == \"8\":\n",
    "            print(\"Exiting Employee Management System. Goodbye!\")\n",
    "            break\n",
    "\n",
    "        else:\n",
    "            print(\"Invalid choice. Please select from the menu.\")\n",
    "\n",
    "# Run the menu\n",
    "menu()"
   ]
  },
  {
   "cell_type": "code",
   "execution_count": null,
   "id": "5dbed415-cded-4fba-b098-d65576ee6edd",
   "metadata": {},
   "outputs": [],
   "source": []
  }
 ],
 "metadata": {
  "kernelspec": {
   "display_name": "Python [conda env:base] *",
   "language": "python",
   "name": "conda-base-py"
  },
  "language_info": {
   "codemirror_mode": {
    "name": "ipython",
    "version": 3
   },
   "file_extension": ".py",
   "mimetype": "text/x-python",
   "name": "python",
   "nbconvert_exporter": "python",
   "pygments_lexer": "ipython3",
   "version": "3.12.7"
  }
 },
 "nbformat": 4,
 "nbformat_minor": 5
}
