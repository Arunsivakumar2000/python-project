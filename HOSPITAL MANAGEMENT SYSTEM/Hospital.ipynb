{
 "cells": [
  {
   "cell_type": "code",
   "execution_count": null,
   "id": "3b0f0570-48c6-4578-8bf5-8a16115d7a1d",
   "metadata": {},
   "outputs": [],
   "source": [
    "                                     HOSPITAL MANAGEMENT SYSTEM"
   ]
  },
  {
   "cell_type": "code",
   "execution_count": 1,
   "id": "01952aea-43a7-4184-bf0c-8a252b6731dd",
   "metadata": {},
   "outputs": [
    {
     "name": "stdout",
     "output_type": "stream",
     "text": [
      "\n",
      "--- Hospital Management System ---\n",
      "1. Add Patient\n",
      "2. View Patients\n",
      "3. Add Doctor\n",
      "4. View Doctors\n",
      "5. Book Appointment\n",
      "6. View Appointments\n",
      "7. Generate Bill\n",
      "8. View Bills\n",
      "9. Exit\n"
     ]
    },
    {
     "name": "stdin",
     "output_type": "stream",
     "text": [
      "Enter your choice:  1\n",
      "Enter patient name:  V.Kannan\n",
      "Enter age:  31\n",
      "Enter gender:  Male\n",
      "Enter address:  1/131 New Street Chennai\n",
      "Enter phone number:  9612062318\n"
     ]
    },
    {
     "name": "stdout",
     "output_type": "stream",
     "text": [
      "Patient added successfully.\n",
      "\n",
      "\n",
      "--- Hospital Management System ---\n",
      "1. Add Patient\n",
      "2. View Patients\n",
      "3. Add Doctor\n",
      "4. View Doctors\n",
      "5. Book Appointment\n",
      "6. View Appointments\n",
      "7. Generate Bill\n",
      "8. View Bills\n",
      "9. Exit\n"
     ]
    },
    {
     "name": "stdin",
     "output_type": "stream",
     "text": [
      "Enter your choice:  1\n",
      "Enter patient name:  R.Lalith\n",
      "Enter age:  27\n",
      "Enter gender:  Male\n",
      "Enter address:  1/31 T.Nagar Chennai\n",
      "Enter phone number:  8312983490\n"
     ]
    },
    {
     "name": "stdout",
     "output_type": "stream",
     "text": [
      "Patient added successfully.\n",
      "\n",
      "\n",
      "--- Hospital Management System ---\n",
      "1. Add Patient\n",
      "2. View Patients\n",
      "3. Add Doctor\n",
      "4. View Doctors\n",
      "5. Book Appointment\n",
      "6. View Appointments\n",
      "7. Generate Bill\n",
      "8. View Bills\n",
      "9. Exit\n"
     ]
    },
    {
     "name": "stdin",
     "output_type": "stream",
     "text": [
      "Enter your choice:  1\n",
      "Enter patient name:  E.Susila\n",
      "Enter age:  38\n",
      "Enter gender:  Female\n",
      "Enter address:  3/81 Vijaya Nagar Chennai\n",
      "Enter phone number:  8943129045\n"
     ]
    },
    {
     "name": "stdout",
     "output_type": "stream",
     "text": [
      "Patient added successfully.\n",
      "\n",
      "\n",
      "--- Hospital Management System ---\n",
      "1. Add Patient\n",
      "2. View Patients\n",
      "3. Add Doctor\n",
      "4. View Doctors\n",
      "5. Book Appointment\n",
      "6. View Appointments\n",
      "7. Generate Bill\n",
      "8. View Bills\n",
      "9. Exit\n"
     ]
    },
    {
     "name": "stdin",
     "output_type": "stream",
     "text": [
      "Enter your choice:  2\n"
     ]
    },
    {
     "name": "stdout",
     "output_type": "stream",
     "text": [
      "   id      name  age  gender                    address       phone\n",
      "0   1  V.Kannan   31    Male   1/131 New Street Chennai  9612062318\n",
      "1   2  R.Lalith   27    Male       1/31 T.Nagar Chennai  8312983490\n",
      "2   3  E.Susila   38  Female  3/81 Vijaya Nagar Chennai  8943129045\n",
      "\n",
      "--- Hospital Management System ---\n",
      "1. Add Patient\n",
      "2. View Patients\n",
      "3. Add Doctor\n",
      "4. View Doctors\n",
      "5. Book Appointment\n",
      "6. View Appointments\n",
      "7. Generate Bill\n",
      "8. View Bills\n",
      "9. Exit\n"
     ]
    },
    {
     "name": "stdin",
     "output_type": "stream",
     "text": [
      "Enter your choice:  3\n",
      "Enter doctor name:  R.Ramesh\n",
      "Enter specialty:  Cardiologist\n",
      "Enter phone number:  9423764190\n"
     ]
    },
    {
     "name": "stdout",
     "output_type": "stream",
     "text": [
      "Doctor added successfully.\n",
      "\n",
      "\n",
      "--- Hospital Management System ---\n",
      "1. Add Patient\n",
      "2. View Patients\n",
      "3. Add Doctor\n",
      "4. View Doctors\n",
      "5. Book Appointment\n",
      "6. View Appointments\n",
      "7. Generate Bill\n",
      "8. View Bills\n",
      "9. Exit\n"
     ]
    },
    {
     "name": "stdin",
     "output_type": "stream",
     "text": [
      "Enter your choice:  3\n",
      "Enter doctor name:  T.Vimal\n",
      "Enter specialty:  Physiotherapy\n",
      "Enter phone number:  8312847210\n"
     ]
    },
    {
     "name": "stdout",
     "output_type": "stream",
     "text": [
      "Doctor added successfully.\n",
      "\n",
      "\n",
      "--- Hospital Management System ---\n",
      "1. Add Patient\n",
      "2. View Patients\n",
      "3. Add Doctor\n",
      "4. View Doctors\n",
      "5. Book Appointment\n",
      "6. View Appointments\n",
      "7. Generate Bill\n",
      "8. View Bills\n",
      "9. Exit\n"
     ]
    },
    {
     "name": "stdin",
     "output_type": "stream",
     "text": [
      "Enter your choice:  3\n",
      "Enter doctor name:  P.Prakash\n",
      "Enter specialty:  Anesthetics\n",
      "Enter phone number:  9834095431\n"
     ]
    },
    {
     "name": "stdout",
     "output_type": "stream",
     "text": [
      "Doctor added successfully.\n",
      "\n",
      "\n",
      "--- Hospital Management System ---\n",
      "1. Add Patient\n",
      "2. View Patients\n",
      "3. Add Doctor\n",
      "4. View Doctors\n",
      "5. Book Appointment\n",
      "6. View Appointments\n",
      "7. Generate Bill\n",
      "8. View Bills\n",
      "9. Exit\n"
     ]
    },
    {
     "name": "stdin",
     "output_type": "stream",
     "text": [
      "Enter your choice:  4\n"
     ]
    },
    {
     "name": "stdout",
     "output_type": "stream",
     "text": [
      "   id       name      specialty       phone\n",
      "0   1   R.Ramesh   Cardiologist  9423764190\n",
      "1   2    T.Vimal  Physiotherapy  8312847210\n",
      "2   3  P.Prakash    Anesthetics  9834095431\n",
      "\n",
      "--- Hospital Management System ---\n",
      "1. Add Patient\n",
      "2. View Patients\n",
      "3. Add Doctor\n",
      "4. View Doctors\n",
      "5. Book Appointment\n",
      "6. View Appointments\n",
      "7. Generate Bill\n",
      "8. View Bills\n",
      "9. Exit\n"
     ]
    },
    {
     "name": "stdin",
     "output_type": "stream",
     "text": [
      "Enter your choice:  5\n",
      "Enter patient ID:  1\n",
      "Enter doctor ID:  1\n",
      "Enter appointment date (YYYY-MM-DD):  2025-04-27\n"
     ]
    },
    {
     "name": "stdout",
     "output_type": "stream",
     "text": [
      "Appointment booked successfully.\n",
      "\n",
      "\n",
      "--- Hospital Management System ---\n",
      "1. Add Patient\n",
      "2. View Patients\n",
      "3. Add Doctor\n",
      "4. View Doctors\n",
      "5. Book Appointment\n",
      "6. View Appointments\n",
      "7. Generate Bill\n",
      "8. View Bills\n",
      "9. Exit\n"
     ]
    },
    {
     "name": "stdin",
     "output_type": "stream",
     "text": [
      "Enter your choice:  5\n",
      "Enter patient ID:  2\n",
      "Enter doctor ID:  2\n",
      "Enter appointment date (YYYY-MM-DD):  2025-04-28\n"
     ]
    },
    {
     "name": "stdout",
     "output_type": "stream",
     "text": [
      "Appointment booked successfully.\n",
      "\n",
      "\n",
      "--- Hospital Management System ---\n",
      "1. Add Patient\n",
      "2. View Patients\n",
      "3. Add Doctor\n",
      "4. View Doctors\n",
      "5. Book Appointment\n",
      "6. View Appointments\n",
      "7. Generate Bill\n",
      "8. View Bills\n",
      "9. Exit\n"
     ]
    },
    {
     "name": "stdin",
     "output_type": "stream",
     "text": [
      "Enter your choice:  5\n",
      "Enter patient ID:  3\n",
      "Enter doctor ID:  3\n",
      "Enter appointment date (YYYY-MM-DD):  2025-04-29\n"
     ]
    },
    {
     "name": "stdout",
     "output_type": "stream",
     "text": [
      "Appointment booked successfully.\n",
      "\n",
      "\n",
      "--- Hospital Management System ---\n",
      "1. Add Patient\n",
      "2. View Patients\n",
      "3. Add Doctor\n",
      "4. View Doctors\n",
      "5. Book Appointment\n",
      "6. View Appointments\n",
      "7. Generate Bill\n",
      "8. View Bills\n",
      "9. Exit\n"
     ]
    },
    {
     "name": "stdin",
     "output_type": "stream",
     "text": [
      "Enter your choice:  6\n"
     ]
    },
    {
     "name": "stdout",
     "output_type": "stream",
     "text": [
      "   Appointment ID Patient Name Doctor Name        Date\n",
      "0               1     V.Kannan    R.Ramesh  2025-04-27\n",
      "1               2     R.Lalith     T.Vimal  2025-04-28\n",
      "2               3     E.Susila   P.Prakash  2025-04-29\n",
      "\n",
      "--- Hospital Management System ---\n",
      "1. Add Patient\n",
      "2. View Patients\n",
      "3. Add Doctor\n",
      "4. View Doctors\n",
      "5. Book Appointment\n",
      "6. View Appointments\n",
      "7. Generate Bill\n",
      "8. View Bills\n",
      "9. Exit\n"
     ]
    },
    {
     "name": "stdin",
     "output_type": "stream",
     "text": [
      "Enter your choice:  7\n",
      "Enter patient ID:  1\n",
      "Enter amount:  2500\n"
     ]
    },
    {
     "name": "stdout",
     "output_type": "stream",
     "text": [
      "Bill generated successfully.\n",
      "\n",
      "\n",
      "--- Hospital Management System ---\n",
      "1. Add Patient\n",
      "2. View Patients\n",
      "3. Add Doctor\n",
      "4. View Doctors\n",
      "5. Book Appointment\n",
      "6. View Appointments\n",
      "7. Generate Bill\n",
      "8. View Bills\n",
      "9. Exit\n"
     ]
    },
    {
     "name": "stdin",
     "output_type": "stream",
     "text": [
      "Enter your choice:  7\n",
      "Enter patient ID:  2\n",
      "Enter amount:  3800\n"
     ]
    },
    {
     "name": "stdout",
     "output_type": "stream",
     "text": [
      "Bill generated successfully.\n",
      "\n",
      "\n",
      "--- Hospital Management System ---\n",
      "1. Add Patient\n",
      "2. View Patients\n",
      "3. Add Doctor\n",
      "4. View Doctors\n",
      "5. Book Appointment\n",
      "6. View Appointments\n",
      "7. Generate Bill\n",
      "8. View Bills\n",
      "9. Exit\n"
     ]
    },
    {
     "name": "stdin",
     "output_type": "stream",
     "text": [
      "Enter your choice:  7\n",
      "Enter patient ID:  3\n",
      "Enter amount:  1500\n"
     ]
    },
    {
     "name": "stdout",
     "output_type": "stream",
     "text": [
      "Bill generated successfully.\n",
      "\n",
      "\n",
      "--- Hospital Management System ---\n",
      "1. Add Patient\n",
      "2. View Patients\n",
      "3. Add Doctor\n",
      "4. View Doctors\n",
      "5. Book Appointment\n",
      "6. View Appointments\n",
      "7. Generate Bill\n",
      "8. View Bills\n",
      "9. Exit\n"
     ]
    },
    {
     "name": "stdin",
     "output_type": "stream",
     "text": [
      "Enter your choice:  8\n"
     ]
    },
    {
     "name": "stdout",
     "output_type": "stream",
     "text": [
      "   Bill ID Patient Name  Amount        Date\n",
      "0        1     V.Kannan  2500.0  2025-04-25\n",
      "1        2     R.Lalith  3800.0  2025-04-25\n",
      "2        3     E.Susila  1500.0  2025-04-25\n",
      "\n",
      "📊 Average Bill Amount: ₹2600.00\n",
      "\n",
      "--- Hospital Management System ---\n",
      "1. Add Patient\n",
      "2. View Patients\n",
      "3. Add Doctor\n",
      "4. View Doctors\n",
      "5. Book Appointment\n",
      "6. View Appointments\n",
      "7. Generate Bill\n",
      "8. View Bills\n",
      "9. Exit\n"
     ]
    },
    {
     "name": "stdin",
     "output_type": "stream",
     "text": [
      "Enter your choice:  9\n"
     ]
    },
    {
     "name": "stdout",
     "output_type": "stream",
     "text": [
      "Exiting system. Goodbye!\n"
     ]
    }
   ],
   "source": [
    "# Importing required modules\n",
    "import datetime  # For handling dates\n",
    "import numpy as np  # For numerical operations\n",
    "import pandas as pd  # For data management and tabular display\n",
    "\n",
    "# =========================\n",
    "# CLASS DEFINITIONS (OOPS)\n",
    "# =========================\n",
    "\n",
    "# Class for storing patient data\n",
    "class Patient:\n",
    "    def __init__(self, name, age, gender, address, phone):\n",
    "        # Automatically assign a unique ID based on the current number of patients\n",
    "        self.id = len(PatientDB) + 1\n",
    "        self.name = name\n",
    "        self.age = age\n",
    "        self.gender = gender\n",
    "        self.address = address\n",
    "        self.phone = phone\n",
    "\n",
    "# Class for storing doctor data\n",
    "class Doctor:\n",
    "    def __init__(self, name, specialty, phone):\n",
    "        # Automatically assign a unique ID\n",
    "        self.id = len(DoctorDB) + 1\n",
    "        self.name = name\n",
    "        self.specialty = specialty\n",
    "        self.phone = phone\n",
    "\n",
    "# Class for storing appointment data\n",
    "class Appointment:\n",
    "    def __init__(self, patient_id, doctor_id, date):\n",
    "        # Assign an appointment ID\n",
    "        self.id = len(AppointmentDB) + 1\n",
    "        self.patient_id = patient_id\n",
    "        self.doctor_id = doctor_id\n",
    "        self.date = date  # Should be in \"YYYY-MM-DD\" format\n",
    "\n",
    "# Class for storing billing information\n",
    "class Bill:\n",
    "    def __init__(self, patient_id, amount):\n",
    "        self.id = len(BillDB) + 1  # Unique bill ID\n",
    "        self.patient_id = patient_id  # Patient linked to the bill\n",
    "        self.amount = amount  # Amount to be paid\n",
    "        self.date = datetime.date.today().isoformat()  # Auto-fill today's date\n",
    "\n",
    "# =========================\n",
    "# DATA STORAGE (Lists of objects)\n",
    "# =========================\n",
    "\n",
    "# Lists to store data for each entity\n",
    "PatientDB = []      # List of all patients\n",
    "DoctorDB = []       # List of all doctors\n",
    "AppointmentDB = []  # List of all appointments\n",
    "BillDB = []         # List of all bills\n",
    "\n",
    "# =========================\n",
    "# FUNCTION DEFINITIONS\n",
    "# =========================\n",
    "\n",
    "# Function to add a new patient\n",
    "def add_patient():\n",
    "    # Collect input from user\n",
    "    name = input(\"Enter patient name: \")\n",
    "    age = int(input(\"Enter age: \"))\n",
    "    gender = input(\"Enter gender: \")\n",
    "    address = input(\"Enter address: \")\n",
    "    phone = input(\"Enter phone number: \")\n",
    "\n",
    "    # Create a new patient object\n",
    "    patient = Patient(name, age, gender, address, phone)\n",
    "\n",
    "    # Add to the PatientDB list\n",
    "    PatientDB.append(patient)\n",
    "    print(\"Patient added successfully.\\n\")\n",
    "\n",
    "# Function to display all patients using Pandas\n",
    "def view_patients():\n",
    "    if not PatientDB:\n",
    "        print(\"No patients found.\")\n",
    "        return\n",
    "    # Convert list of objects to list of dictionaries, then to DataFrame\n",
    "    df = pd.DataFrame([vars(p) for p in PatientDB])\n",
    "    print(df)\n",
    "\n",
    "# Function to add a new doctor\n",
    "def add_doctor():\n",
    "    name = input(\"Enter doctor name: \")\n",
    "    specialty = input(\"Enter specialty: \")\n",
    "    phone = input(\"Enter phone number: \")\n",
    "    # Create and add doctor\n",
    "    doctor = Doctor(name, specialty, phone)\n",
    "    DoctorDB.append(doctor)\n",
    "    print(\"Doctor added successfully.\\n\")\n",
    "\n",
    "# Function to display all doctors\n",
    "def view_doctors():\n",
    "    if not DoctorDB:\n",
    "        print(\"No doctors found.\")\n",
    "        return\n",
    "    # Use Pandas DataFrame to display data\n",
    "    df = pd.DataFrame([vars(d) for d in DoctorDB])\n",
    "    print(df)\n",
    "\n",
    "# Function to book an appointment\n",
    "def book_appointment():\n",
    "    # Collect IDs and date from user\n",
    "    patient_id = int(input(\"Enter patient ID: \"))\n",
    "    doctor_id = int(input(\"Enter doctor ID: \"))\n",
    "    date = input(\"Enter appointment date (YYYY-MM-DD): \")\n",
    "\n",
    "    # Create and add appointment\n",
    "    appointment = Appointment(patient_id, doctor_id, date)\n",
    "    AppointmentDB.append(appointment)\n",
    "    print(\"Appointment booked successfully.\\n\")\n",
    "\n",
    "# Function to display all appointments\n",
    "def view_appointments():\n",
    "    if not AppointmentDB:\n",
    "        print(\"No appointments found.\")\n",
    "        return\n",
    "\n",
    "    # Prepare data with patient and doctor names\n",
    "    records = []\n",
    "    for a in AppointmentDB:\n",
    "        # Find patient and doctor by ID\n",
    "        patient = next((p for p in PatientDB if p.id == a.patient_id), None)\n",
    "        doctor = next((d for d in DoctorDB if d.id == a.doctor_id), None)\n",
    "        # Add details to list for display\n",
    "        records.append({\n",
    "            \"Appointment ID\": a.id,\n",
    "            \"Patient Name\": patient.name if patient else \"Unknown\",\n",
    "            \"Doctor Name\": doctor.name if doctor else \"Unknown\",\n",
    "            \"Date\": a.date\n",
    "        })\n",
    "\n",
    "    # Display appointments using Pandas\n",
    "    df = pd.DataFrame(records)\n",
    "    print(df)\n",
    "\n",
    "# Function to generate a bill for a patient\n",
    "def generate_bill():\n",
    "    patient_id = int(input(\"Enter patient ID: \"))\n",
    "    amount = float(input(\"Enter amount: \"))\n",
    "    # Create bill object\n",
    "    bill = Bill(patient_id, amount)\n",
    "    BillDB.append(bill)\n",
    "    print(\"Bill generated successfully.\\n\")\n",
    "\n",
    "# Function to view all bills\n",
    "def view_bills():\n",
    "    if not BillDB:\n",
    "        print(\"No bills found.\")\n",
    "        return\n",
    "\n",
    "    # Prepare bill data with patient names\n",
    "    records = []\n",
    "    for b in BillDB:\n",
    "        patient = next((p for p in PatientDB if p.id == b.patient_id), None)\n",
    "        records.append({\n",
    "            \"Bill ID\": b.id,\n",
    "            \"Patient Name\": patient.name if patient else \"Unknown\",\n",
    "            \"Amount\": b.amount,\n",
    "            \"Date\": b.date\n",
    "        })\n",
    "\n",
    "    # Show bill table using Pandas\n",
    "    df = pd.DataFrame(records)\n",
    "    print(df)\n",
    "\n",
    "    # Use NumPy to calculate average bill amount\n",
    "    amounts = np.array([b.amount for b in BillDB])\n",
    "    print(f\"\\n Average Bill Amount: ₹{np.mean(amounts):.2f}\")\n",
    "\n",
    "# =========================\n",
    "# MAIN MENU LOOP\n",
    "# =========================\n",
    "\n",
    "def main():\n",
    "    while True:\n",
    "        # Display menu options\n",
    "        print(\"\\n--- Hospital Management System ---\")\n",
    "        print(\"1. Add Patient\")\n",
    "        print(\"2. View Patients\")\n",
    "        print(\"3. Add Doctor\")\n",
    "        print(\"4. View Doctors\")\n",
    "        print(\"5. Book Appointment\")\n",
    "        print(\"6. View Appointments\")\n",
    "        print(\"7. Generate Bill\")\n",
    "        print(\"8. View Bills\")\n",
    "        print(\"9. Exit\")\n",
    "\n",
    "        # Get user's choice\n",
    "        choice = input(\"Enter your choice: \")\n",
    "\n",
    "        # Match the choice with functions\n",
    "        if choice == '1':\n",
    "            add_patient()\n",
    "        elif choice == '2':\n",
    "            view_patients()\n",
    "        elif choice == '3':\n",
    "            add_doctor()\n",
    "        elif choice == '4':\n",
    "            view_doctors()\n",
    "        elif choice == '5':\n",
    "            book_appointment()\n",
    "        elif choice == '6':\n",
    "            view_appointments()\n",
    "        elif choice == '7':\n",
    "            generate_bill()\n",
    "        elif choice == '8':\n",
    "            view_bills()\n",
    "        elif choice == '9':\n",
    "            print(\"Exiting system. Goodbye!\")\n",
    "            break\n",
    "        else:\n",
    "            print(\"Invalid choice. Please try again.\")\n",
    "\n",
    "# =========================\n",
    "# START THE PROGRAM\n",
    "# =========================\n",
    "\n",
    "# Ensure the program runs only when executed directly\n",
    "if __name__ == \"__main__\":\n",
    "    main()\n"
   ]
  },
  {
   "cell_type": "code",
   "execution_count": null,
   "id": "b3863cf8-77a3-4603-8ca7-15a6a8b7e8e1",
   "metadata": {},
   "outputs": [],
   "source": []
  }
 ],
 "metadata": {
  "kernelspec": {
   "display_name": "Python [conda env:base] *",
   "language": "python",
   "name": "conda-base-py"
  },
  "language_info": {
   "codemirror_mode": {
    "name": "ipython",
    "version": 3
   },
   "file_extension": ".py",
   "mimetype": "text/x-python",
   "name": "python",
   "nbconvert_exporter": "python",
   "pygments_lexer": "ipython3",
   "version": "3.12.7"
  }
 },
 "nbformat": 4,
 "nbformat_minor": 5
}
